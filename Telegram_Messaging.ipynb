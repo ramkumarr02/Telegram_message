{
 "cells": [
  {
   "cell_type": "markdown",
   "metadata": {},
   "source": [
    "# How to send messages to your mobile telegram app from python"
   ]
  },
  {
   "cell_type": "markdown",
   "metadata": {},
   "source": [
    "#### Steps to follow"
   ]
  },
  {
   "cell_type": "markdown",
   "metadata": {},
   "source": [
    "- Refer tutorial video : https://www.youtube.com/watch?v=ps1yeWwd6iA\n",
    "- Step 1: Create a Telegram bot\n",
    "- Step 2: Save Bot token\n",
    "- Step 3: Create a Telegram Group and add the above bot\n",
    "- Step 4: Get Chat id using the url_for_Chat_id in browser    "
   ]
  },
  {
   "cell_type": "markdown",
   "metadata": {},
   "source": [
    "#### Import Packages and Params"
   ]
  },
  {
   "cell_type": "code",
   "execution_count": 1,
   "metadata": {},
   "outputs": [],
   "source": [
    "import os\n",
    "import requests\n",
    "import pandas as pd\n",
    "from configs import keys\n",
    "import dataframe_image as dfi"
   ]
  },
  {
   "cell_type": "markdown",
   "metadata": {},
   "source": [
    "#### Get Chat id if you dont have already "
   ]
  },
  {
   "cell_type": "code",
   "execution_count": 2,
   "metadata": {},
   "outputs": [],
   "source": [
    "telegram_url = \"https://api.telegram.org/bot\"\n",
    "url_for_Chat_id = f'{telegram_url}{keys.tester_bot_token}/getUpdates'"
   ]
  },
  {
   "cell_type": "markdown",
   "metadata": {},
   "source": [
    "#### Send Message"
   ]
  },
  {
   "cell_type": "code",
   "execution_count": 3,
   "metadata": {},
   "outputs": [],
   "source": [
    "def send_message(message_text):\n",
    "    telegram_url = \"https://api.telegram.org/bot\"\n",
    "    send_message_url = f'{telegram_url}{keys.tester_bot_token}/sendMessage?chat_id={keys.chat_id}/&text={message_text}'\n",
    "    requests.get(send_message_url)"
   ]
  },
  {
   "cell_type": "code",
   "execution_count": 4,
   "metadata": {},
   "outputs": [],
   "source": [
    "message_text = 'Hello World'\n",
    "send_message(message_text)"
   ]
  },
  {
   "cell_type": "markdown",
   "metadata": {},
   "source": [
    "#### Send Photo (A Dataframe or report)"
   ]
  },
  {
   "cell_type": "code",
   "execution_count": 5,
   "metadata": {},
   "outputs": [],
   "source": [
    "def send_photo(file_path):\n",
    "    telegram_url = \"https://api.telegram.org/bot\"\n",
    "    file={'photo':open(file_path, 'rb')}\n",
    "    send_message_url = f'{telegram_url}{keys.tester_bot_token}/sendPhoto?chat_id={keys.chat_id}'\n",
    "    requests.post(send_message_url, files=file)"
   ]
  },
  {
   "cell_type": "code",
   "execution_count": 6,
   "metadata": {},
   "outputs": [],
   "source": [
    "df = pd.DataFrame({'A': [1,2,3,4],\n",
    "                   'B':['A','B','C','D']})"
   ]
  },
  {
   "cell_type": "code",
   "execution_count": 7,
   "metadata": {},
   "outputs": [],
   "source": [
    "filename = 'dataframe.png'\n",
    "dfi.export(df, filename)\n",
    "file_path = f'{keys.file_path}\\{filename}'\n",
    "send_photo(file_path)"
   ]
  },
  {
   "cell_type": "markdown",
   "metadata": {},
   "source": [
    "#### Delete the create png file"
   ]
  },
  {
   "cell_type": "code",
   "execution_count": 8,
   "metadata": {},
   "outputs": [],
   "source": [
    "os.remove(file_path)"
   ]
  }
 ],
 "metadata": {
  "kernelspec": {
   "display_name": "Python 3 (ipykernel)",
   "language": "python",
   "name": "python3"
  },
  "language_info": {
   "codemirror_mode": {
    "name": "ipython",
    "version": 3
   },
   "file_extension": ".py",
   "mimetype": "text/x-python",
   "name": "python",
   "nbconvert_exporter": "python",
   "pygments_lexer": "ipython3",
   "version": "3.8.5"
  }
 },
 "nbformat": 4,
 "nbformat_minor": 4
}
